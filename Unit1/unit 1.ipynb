{
 "cells": [
  {
   "cell_type": "code",
   "execution_count": 1,
   "metadata": {
    "collapsed": true
   },
   "outputs": [],
   "source": [
    "import unicodecsv\n",
    "\n",
    "enrollments_filename = './enrollments.csv'\n",
    "\n",
    "## Longer version of code (replaced with shorter, equivalent version below)\n",
    "\n",
    "# enrollments = []\n",
    "# f = open(enrollments_filename, 'rb')\n",
    "# reader = unicodecsv.DictReader(f)\n",
    "# for row in reader:\n",
    "#     enrollments.append(row)\n",
    "# f.close()"
   ]
  },
  {
   "cell_type": "code",
   "execution_count": 2,
   "metadata": {
    "collapsed": true
   },
   "outputs": [],
   "source": [
    "# Read_csv function defined.\n",
    "# @filename = './somewhat.csv'\n",
    "def read_csv(filename): \n",
    "    with open(filename, 'rb') as f:\n",
    "        reader = unicodecsv.DictReader(f)\n",
    "\t\t\t\t\t\t\t\t\n",
    "        return list(reader)\n",
    "# read_csv(parameter)\n",
    "# returns every row it has.\n",
    "enrollments = read_csv('./enrollments.csv')\n",
    "daily_engagement = read_csv('./daily_engagement.csv')\n",
    "project_submissions = read_csv('./project_submissions.csv')"
   ]
  },
  {
   "cell_type": "code",
   "execution_count": 3,
   "metadata": {
    "collapsed": true
   },
   "outputs": [],
   "source": [
    "for engagement_record in daily_engagement: \n",
    "    engagement_record['account_key'] = engagement_record['acct'] \n",
    "del [engagement_record['acct']]"
   ]
  },
  {
   "cell_type": "code",
   "execution_count": 4,
   "metadata": {},
   "outputs": [
    {
     "data": {
      "text/plain": [
       "OrderedDict([('account_key', '448'),\n",
       "             ('status', 'canceled'),\n",
       "             ('join_date', '2014-11-10'),\n",
       "             ('cancel_date', '2015-01-14'),\n",
       "             ('days_to_cancel', '65'),\n",
       "             ('is_udacity', 'True'),\n",
       "             ('is_canceled', 'True')])"
      ]
     },
     "execution_count": 4,
     "metadata": {},
     "output_type": "execute_result"
    }
   ],
   "source": [
    "enrollments[0] # print out the first data"
   ]
  },
  {
   "cell_type": "code",
   "execution_count": 5,
   "metadata": {},
   "outputs": [
    {
     "data": {
      "text/plain": [
       "OrderedDict([('acct', '0'),\n",
       "             ('utc_date', '2015-02-28'),\n",
       "             ('num_courses_visited', '0.0'),\n",
       "             ('total_minutes_visited', '0.0'),\n",
       "             ('lessons_completed', '0.0'),\n",
       "             ('projects_completed', '0.0'),\n",
       "             ('account_key', '0')])"
      ]
     },
     "execution_count": 5,
     "metadata": {},
     "output_type": "execute_result"
    }
   ],
   "source": [
    "daily_engagement[50]     # print out the first data"
   ]
  },
  {
   "cell_type": "code",
   "execution_count": 6,
   "metadata": {},
   "outputs": [
    {
     "data": {
      "text/plain": [
       "OrderedDict([('creation_date', '2015-01-14'),\n",
       "             ('completion_date', '2015-01-16'),\n",
       "             ('assigned_rating', 'UNGRADED'),\n",
       "             ('account_key', '256'),\n",
       "             ('lesson_key', '3176718735'),\n",
       "             ('processing_state', 'EVALUATED')])"
      ]
     },
     "execution_count": 6,
     "metadata": {},
     "output_type": "execute_result"
    }
   ],
   "source": [
    "project_submissions[0]  # print out the first data"
   ]
  },
  {
   "cell_type": "code",
   "execution_count": 7,
   "metadata": {
    "collapsed": true
   },
   "outputs": [],
   "source": [
    "# Define unique_value_adder \n",
    "# Create empty key list\n",
    "key = []\n",
    "\n",
    "def unique_value_adder (value, search_list, add_list):\n",
    "  for row in search_list :\n",
    "    unique_candidate = row.get (value)\n",
    "    if unique_candidate in add_list : \n",
    "      continue\n",
    "    else:\n",
    "      add_list.append(unique_candidate)"
   ]
  },
  {
   "cell_type": "code",
   "execution_count": 8,
   "metadata": {},
   "outputs": [
    {
     "name": "stdout",
     "output_type": "stream",
     "text": [
      "1302 1237 743\n"
     ]
    }
   ],
   "source": [
    "enrollment_num_rows = len(enrollments)  \n",
    "enrollments_key=[]\n",
    "unique_value_adder ('account_key', enrollments, enrollments_key)\n",
    "\n",
    "\n",
    "\n",
    "engagement_num_rows = len(daily_engagement)\n",
    "daily_engagement_key=[]\n",
    "unique_value_adder ('account_key', daily_engagement, daily_engagement_key)\n",
    "\n",
    "\n",
    "submission_num_rows = len(project_submissions)\n",
    "project_submissions_key=[]\n",
    "unique_value_adder ('account_key', project_submissions, project_submissions_key)\n",
    "\n",
    "enrollment_num_unique_students = (len(enrollments_key))\n",
    "engagement_num_unique_students = len(daily_engagement_key)\n",
    "submission_num_unique_students = len(project_submissions_key)\n",
    "\n",
    "\n",
    "print (enrollment_num_unique_students, engagement_num_unique_students, submission_num_unique_students)"
   ]
  },
  {
   "cell_type": "code",
   "execution_count": 9,
   "metadata": {},
   "outputs": [
    {
     "name": "stdout",
     "output_type": "stream",
     "text": [
      "OrderedDict([('account_key', '1304'), ('status', 'canceled'), ('join_date', '2015-01-10'), ('cancel_date', '2015-03-10'), ('days_to_cancel', '59'), ('is_udacity', 'True'), ('is_canceled', 'True')])\n",
      "OrderedDict([('account_key', '1304'), ('status', 'canceled'), ('join_date', '2015-03-10'), ('cancel_date', '2015-06-17'), ('days_to_cancel', '99'), ('is_udacity', 'True'), ('is_canceled', 'True')])\n",
      "OrderedDict([('account_key', '1101'), ('status', 'current'), ('join_date', '2015-02-25'), ('cancel_date', ''), ('days_to_cancel', ''), ('is_udacity', 'True'), ('is_canceled', 'False')])\n"
     ]
    }
   ],
   "source": [
    "for row in enrollments : \n",
    "    student = row['account_key']\n",
    "    if student not in daily_engagement_key:\n",
    "        if (row['days_to_cancel']!='0'):\n",
    "            print (row)"
   ]
  },
  {
   "cell_type": "code",
   "execution_count": 10,
   "metadata": {},
   "outputs": [
    {
     "name": "stdout",
     "output_type": "stream",
     "text": [
      "['448', '448', '448', '448', '448', '448', '448', '448', '448', '1304', '1304', '312', '312', '312', '312', '818', '1069', '1101']\n"
     ]
    }
   ],
   "source": [
    "# Creating udacity test Acocunt key \n",
    "is_udacity_account_key=[]\n",
    "for row in enrollments :\n",
    "    if (row['is_udacity']=='True'):\n",
    "        is_udacity_account_key.append(row['account_key'])\n",
    "print (is_udacity_account_key)"
   ]
  },
  {
   "cell_type": "code",
   "execution_count": 11,
   "metadata": {
    "collapsed": true
   },
   "outputs": [],
   "source": [
    "def udacity_extractor (dataSet):\n",
    "    fixed_data=[]\n",
    "    for row in dataSet : \n",
    "        if (row['account_key'] not in is_udacity_account_key ):\n",
    "            fixed_data.append(row)\n",
    "    return fixed_data"
   ]
  },
  {
   "cell_type": "code",
   "execution_count": 12,
   "metadata": {},
   "outputs": [
    {
     "name": "stdout",
     "output_type": "stream",
     "text": [
      "1640 1622\n",
      "136240 135656\n",
      "OrderedDict([('acct', '0'), ('utc_date', '2015-02-28'), ('num_courses_visited', '0.0'), ('total_minutes_visited', '0.0'), ('lessons_completed', '0.0'), ('projects_completed', '0.0'), ('account_key', '0')])\n",
      "3642 3634\n"
     ]
    }
   ],
   "source": [
    "#purpose : To copy target data which is not udacity test account \n",
    "\n",
    "\n",
    "# Target Data Sets\n",
    "    # enrollments\n",
    "    # daily_engagement\n",
    "    # project_submissions\n",
    "\n",
    "\n",
    "enrollments_no_udacity = udacity_extractor(enrollments)\n",
    "print (len(enrollments), len(enrollments_no_udacity ))\n",
    "\n",
    "daily_engagement_no_udacity = udacity_extractor(daily_engagement)\n",
    "print (len(daily_engagement), len(daily_engagement_no_udacity ))\n",
    "print (daily_engagement_no_udacity[50])\n",
    "\n",
    "project_submissions_no_udacity = udacity_extractor(project_submissions)\n",
    "print (len(project_submissions), len(project_submissions_no_udacity ))"
   ]
  },
  {
   "cell_type": "code",
   "execution_count": 13,
   "metadata": {},
   "outputs": [
    {
     "name": "stdout",
     "output_type": "stream",
     "text": [
      "995\n"
     ]
    }
   ],
   "source": [
    "paid_student={}\n",
    "\n",
    "\n",
    "## Account_key for paid student. \n",
    "count=0\n",
    "\n",
    "for row in enrollments_no_udacity :\n",
    "   if ((row['days_to_cancel'] == None) or (row['days_to_cancel'] == '') or (int(row['days_to_cancel']) > 7)) :\n",
    "            accountKey = row['account_key']\n",
    "            enrollmentDate = row['join_date']\n",
    "            # If account key is not exist create one.             \n",
    "            if (accountKey not in paid_student):\n",
    "                paid_student [accountKey] = enrollmentDate\n",
    "            # else update the joind date to a recent one.              \n",
    "            else :\n",
    "                if (enrollmentDate > paid_student[accountKey]) :\n",
    "                    # dictionary has Key, Value {account_key, join_date}\n",
    "#                     print (paid_student [accountKey]) # previous value\n",
    "                    paid_student [accountKey] = enrollmentDate\n",
    "#                     print (paid_student [accountKey]) # updated value\n",
    "\n",
    "\n",
    "                    \n",
    "\n",
    "\n",
    "print (len(paid_student))"
   ]
  },
  {
   "cell_type": "code",
   "execution_count": 14,
   "metadata": {},
   "outputs": [
    {
     "ename": "TypeError",
     "evalue": "list indices must be integers or slices, not str",
     "output_type": "error",
     "traceback": [
      "\u001b[0;31m---------------------------------------------------------------------------\u001b[0m",
      "\u001b[0;31mTypeError\u001b[0m                                 Traceback (most recent call last)",
      "\u001b[0;32m<ipython-input-14-ecfeede6095d>\u001b[0m in \u001b[0;36m<module>\u001b[0;34m()\u001b[0m\n\u001b[0;32m----> 1\u001b[0;31m \u001b[0mdaily_engagement_no_udacity\u001b[0m\u001b[0;34m[\u001b[0m\u001b[0;34m''\u001b[0m\u001b[0;34m]\u001b[0m\u001b[0;34m\u001b[0m\u001b[0m\n\u001b[0m",
      "\u001b[0;31mTypeError\u001b[0m: list indices must be integers or slices, not str"
     ]
    }
   ],
   "source": []
  },
  {
   "cell_type": "code",
   "execution_count": 15,
   "metadata": {
    "collapsed": true
   },
   "outputs": [],
   "source": [
    "def copy_paid_account_data (data):\n",
    "    newDataSet=[]\n",
    "    for item in data : \n",
    "        if item['account_key'] in paid_student :\n",
    "            newDataSet.append(item)\n",
    "    return newDataSet"
   ]
  },
  {
   "cell_type": "code",
   "execution_count": 16,
   "metadata": {
    "scrolled": true
   },
   "outputs": [
    {
     "name": "stdout",
     "output_type": "stream",
     "text": [
      "1293 1622\n",
      "134549 135656\n",
      "3618 3634\n",
      "OrderedDict([('acct', '0'), ('utc_date', '2015-01-09'), ('num_courses_visited', '1.0'), ('total_minutes_visited', '11.6793745'), ('lessons_completed', '0.0'), ('projects_completed', '0.0'), ('account_key', '0')])\n"
     ]
    }
   ],
   "source": [
    "# Target Data\n",
    "# enrollments_no_udacity\n",
    "# daily_engagement_no_udacity\n",
    "# project_submissions_no_udacity\n",
    " \n",
    "enrollments_paid = copy_paid_account_data(enrollments_no_udacity)\n",
    "daily_engagement_paid = copy_paid_account_data(daily_engagement_no_udacity)\n",
    "project_submissions_paid =copy_paid_account_data(project_submissions_no_udacity)\n",
    "\n",
    "print(len(enrollments_paid), len(enrollments_no_udacity))\n",
    "print(len(daily_engagement_paid), len(daily_engagement_no_udacity))\n",
    "print(len(project_submissions_paid), len(project_submissions_no_udacity))\n",
    "\n",
    "print (daily_engagement_paid[0])"
   ]
  },
  {
   "cell_type": "code",
   "execution_count": 21,
   "metadata": {},
   "outputs": [
    {
     "name": "stdout",
     "output_type": "stream",
     "text": [
      "21508\n",
      "21508\n"
     ]
    }
   ],
   "source": [
    "from datetime import datetime, timedelta\n",
    "\n",
    "\n",
    "# function compares time between a to b\n",
    "def within_one_week (join_date, engagement_date) : \n",
    "    time_delta = (engagement_date - join_date) \n",
    "    return time_delta.days < 7\n",
    "\n",
    "def within_a_week (join_date, engagement_date) : \n",
    "    time_delta = (engagement_date - join_date) \n",
    "    return time_delta.days\n",
    "\n",
    "\n",
    "paid_engagement=[]\n",
    "\n",
    "for row in daily_engagement_paid:\n",
    "    account_key = row['account_key']\n",
    "    engagement_raw_date = row['utc_date']\n",
    "#     join_date = datetime.strptime(paid_student[account_key], '%Y-%m-%d')\n",
    "#     engagement_date = datetime.strptime(row['join_date'], '%Y-%m-%d')\n",
    "    join_date = datetime.strptime(paid_student[account_key], '%Y-%m-%d')\n",
    "    engagement_date = datetime.strptime(engagement_raw_date, '%Y-%m-%d')\n",
    "    \n",
    "    if within_one_week(join_date, engagement_date):\n",
    "        paid_engagement.append(row)\n",
    "#         print (join_date, engagement_date) \n",
    "#         print (within_a_week(join_date, engagement_date))\n",
    "print(len(paid_engagement))\n",
    "\n",
    "#     else :\n",
    "#         print (join_date, engagement_date) \n",
    "#         print (within_a_week(engagement_date, join_date))\n",
    "#         break\n",
    "\n",
    "print(len(paid_engagement))\n",
    "\n",
    "\n",
    "# for row in daily_engagement_no_udacity :\n",
    "#     # if the rows belongs paid student\n",
    "#     if (account_key in paid_student):\n",
    "#         # change the data type of 'enrollment_date' into date \n",
    "#         join_date = datetime.strptime(paid_student[account_key], '%Y-%m-%d')\n",
    "#         # change the data type of 'utc_date' into date \n",
    "#         engagement_date = datetime.strptime(row['utc_date'], '%Y-%m-%d')\n",
    "\n",
    "#         # compare and check if the row meets the condition\n",
    "#         if(within_one_week(join_date, engagement_date)):\n",
    "#             paid_engagement.append(row)\n",
    "# #             print (\"THIS iS REAL\")\n",
    "# #             print (join_date, engagement_date)\n",
    "\n"
   ]
  },
  {
   "cell_type": "code",
   "execution_count": null,
   "metadata": {
    "collapsed": true
   },
   "outputs": [],
   "source": []
  },
  {
   "cell_type": "code",
   "execution_count": null,
   "metadata": {
    "collapsed": true
   },
   "outputs": [],
   "source": []
  },
  {
   "cell_type": "code",
   "execution_count": null,
   "metadata": {
    "collapsed": true
   },
   "outputs": [],
   "source": []
  },
  {
   "cell_type": "code",
   "execution_count": null,
   "metadata": {
    "collapsed": true
   },
   "outputs": [],
   "source": []
  },
  {
   "cell_type": "code",
   "execution_count": null,
   "metadata": {
    "collapsed": true
   },
   "outputs": [],
   "source": []
  },
  {
   "cell_type": "code",
   "execution_count": null,
   "metadata": {
    "collapsed": true
   },
   "outputs": [],
   "source": []
  },
  {
   "cell_type": "code",
   "execution_count": null,
   "metadata": {
    "collapsed": true
   },
   "outputs": [],
   "source": []
  }
 ],
 "metadata": {
  "kernelspec": {
   "display_name": "Python 3",
   "language": "python",
   "name": "python3"
  },
  "language_info": {
   "codemirror_mode": {
    "name": "ipython",
    "version": 3
   },
   "file_extension": ".py",
   "mimetype": "text/x-python",
   "name": "python",
   "nbconvert_exporter": "python",
   "pygments_lexer": "ipython3",
   "version": "3.6.0"
  }
 },
 "nbformat": 4,
 "nbformat_minor": 1
}
